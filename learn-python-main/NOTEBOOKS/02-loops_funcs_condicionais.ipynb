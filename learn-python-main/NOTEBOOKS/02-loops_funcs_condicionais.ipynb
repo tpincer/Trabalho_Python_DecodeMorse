{
 "cells": [
  {
   "cell_type": "markdown",
   "metadata": {},
   "source": [
    "### Funcionalidades Básicas"
   ]
  },
  {
   "cell_type": "code",
   "execution_count": 1,
   "metadata": {},
   "outputs": [],
   "source": [
    "dict_morse = {\".-\": \"A\", \"-...\": \"B\", \"-.-.\": \"C\", \"-..\": \"D\", \".\": \"E\", \"..-.\": \"F\",\"--.\": \"G\", \"....\": \"H\", \"..\": \"I\", \".---\": \"J\", \"-.-\": \"K\", \".-..\": \"L\",\"--\": \"M\", \"-.\": \"N\", \"---\": \"O\", \".--.\": \"P\", \"--.-\": \"Q\", \".-.\": \"R\",\"...\": \"S\", \"-\": \"T\", \"..-\": \"U\", \"...-\": \"V\", \".--\": \"W\", \"-..-\": \"X\",\"-.--\": \"Y\", \"--..\": \"Z\", \"-----\": 0, \".----\": 1, \"..---\": 2, \"...--\": 3,\"....-\": 4, \".....\": 5, \"-....\": 6, \"--...\": 7, \"---..\": 8, \"----.\": 9}"
   ]
  },
  {
   "cell_type": "code",
   "execution_count": 2,
   "metadata": {},
   "outputs": [],
   "source": [
    "msg = '-.-. .- .-. --- .-.. .. -. .-'"
   ]
  },
  {
   "cell_type": "code",
   "execution_count": 3,
   "metadata": {},
   "outputs": [
    {
     "name": "stdout",
     "output_type": "stream",
     "text": [
      "-.-.\n"
     ]
    }
   ],
   "source": [
    "print(msg[0:4])"
   ]
  },
  {
   "cell_type": "code",
   "execution_count": 4,
   "metadata": {},
   "outputs": [
    {
     "data": {
      "text/plain": [
       "29"
      ]
     },
     "execution_count": 4,
     "metadata": {},
     "output_type": "execute_result"
    }
   ],
   "source": [
    "len(msg)"
   ]
  },
  {
   "cell_type": "markdown",
   "metadata": {},
   "source": [
    "### Decifrando uma palavra"
   ]
  },
  {
   "cell_type": "code",
   "execution_count": 5,
   "metadata": {},
   "outputs": [
    {
     "name": "stdout",
     "output_type": "stream",
     "text": [
      "8\n"
     ]
    }
   ],
   "source": [
    "# Transformar mensagem em lista de palavras \"manualmente\"\n",
    "msg_lst = ['-.-.', '.-', '.-.', '---', '.-..', '..', '-.', '.-']\n",
    "print(len(msg_lst ))"
   ]
  },
  {
   "cell_type": "code",
   "execution_count": 6,
   "metadata": {},
   "outputs": [
    {
     "data": {
      "text/plain": [
       "'C'"
      ]
     },
     "execution_count": 6,
     "metadata": {},
     "output_type": "execute_result"
    }
   ],
   "source": [
    "# Decifrando uma letra\n",
    "dict_morse[msg[0:4]]"
   ]
  },
  {
   "cell_type": "code",
   "execution_count": 7,
   "metadata": {},
   "outputs": [
    {
     "name": "stdout",
     "output_type": "stream",
     "text": [
      "C A R O L I N A\n"
     ]
    }
   ],
   "source": [
    "# Decifrando a mensagem item por item \"manualmente\"\n",
    "print(\n",
    "    dict_morse[msg_lst [0]], dict_morse[msg_lst [1]], dict_morse[msg_lst [2]],\n",
    "    dict_morse[msg_lst [3]], dict_morse[msg_lst [4]], dict_morse[msg_lst [5]],\n",
    "    dict_morse[msg_lst [6]], dict_morse[msg_lst [7]],\n",
    ")"
   ]
  },
  {
   "cell_type": "markdown",
   "metadata": {},
   "source": [
    "<img src=\"../imgs/notebooks/loop.png\" style=\"max-width:300px; \"/>"
   ]
  },
  {
   "cell_type": "code",
   "execution_count": 8,
   "metadata": {},
   "outputs": [
    {
     "name": "stdout",
     "output_type": "stream",
     "text": [
      "C\n",
      "A\n",
      "R\n",
      "O\n",
      "L\n",
      "I\n",
      "N\n",
      "A\n"
     ]
    }
   ],
   "source": [
    "for letter in msg_lst:\n",
    "    print(dict_morse[letter])"
   ]
  },
  {
   "cell_type": "code",
   "execution_count": 9,
   "metadata": {},
   "outputs": [],
   "source": [
    "msg_lst = msg.split(\" \")"
   ]
  },
  {
   "cell_type": "markdown",
   "metadata": {},
   "source": [
    "<img src=\"../imgs/notebooks/while.png\" style=\"max-width:300px; \"/>"
   ]
  },
  {
   "cell_type": "code",
   "execution_count": 10,
   "metadata": {},
   "outputs": [
    {
     "name": "stdout",
     "output_type": "stream",
     "text": [
      "['C', 'A', 'R', 'O', 'L', 'I', 'N', 'A']\n"
     ]
    }
   ],
   "source": [
    "msg_claro = []\n",
    "cnt = 0\n",
    "while cnt < len(msg_lst):\n",
    "    msg_claro.append(dict_morse[msg_lst[cnt]])\n",
    "    cnt += 1\n",
    "print(msg_claro)"
   ]
  },
  {
   "cell_type": "code",
   "execution_count": 11,
   "metadata": {},
   "outputs": [
    {
     "data": {
      "text/plain": [
       "'CAROLINA'"
      ]
     },
     "execution_count": 11,
     "metadata": {},
     "output_type": "execute_result"
    }
   ],
   "source": [
    "\"\".join(msg_claro)"
   ]
  },
  {
   "cell_type": "markdown",
   "metadata": {},
   "source": [
    "### Criando funções"
   ]
  },
  {
   "cell_type": "markdown",
   "metadata": {},
   "source": [
    "<img src=\"../imgs/notebooks/funcao.png\" style=\"max-width:300px; \"/>"
   ]
  },
  {
   "cell_type": "code",
   "execution_count": 12,
   "metadata": {},
   "outputs": [],
   "source": [
    "# Função que decodifica uma mensagem em morse\n",
    "def decode_morse(msg, dict_morse):\n",
    "    msg_lst = msg.split(\" \")\n",
    "    msg_claro = []\n",
    "    for letter in msg_lst:\n",
    "        msg_claro.append(dict_morse[letter])\n",
    "    return \"\".join(msg_claro)"
   ]
  },
  {
   "cell_type": "code",
   "execution_count": 13,
   "metadata": {},
   "outputs": [
    {
     "data": {
      "text/plain": [
       "'CAROLINA'"
      ]
     },
     "execution_count": 13,
     "metadata": {},
     "output_type": "execute_result"
    }
   ],
   "source": [
    "# Testar a função\n",
    "decode_morse('-.-. .- .-. --- .-.. .. -. .-', dict_morse)"
   ]
  },
  {
   "cell_type": "code",
   "execution_count": 14,
   "metadata": {},
   "outputs": [],
   "source": [
    "# Salvar em arquivo\n",
    "file_path = \"decode_morse.txt\""
   ]
  },
  {
   "cell_type": "code",
   "execution_count": 15,
   "metadata": {},
   "outputs": [],
   "source": [
    "with open(file_path, 'w') as file:\n",
    "    for i in range(3):\n",
    "        file.write(f\"teste - {i} \\n\")"
   ]
  },
  {
   "cell_type": "code",
   "execution_count": 16,
   "metadata": {},
   "outputs": [],
   "source": [
    "# salvar em arquivo\n",
    "# datetime da geração\n",
    "\n",
    "import datetime\n",
    "\n",
    "def save_clear_msg_txt(msg_claro,file_path):\n",
    "    now = datetime.datetime.now()\n",
    "    with open(file_path, 'a') as file:\n",
    "        file.write(f\"{msg_claro}, {now} \\n\")"
   ]
  },
  {
   "cell_type": "code",
   "execution_count": 17,
   "metadata": {},
   "outputs": [],
   "source": [
    "# Testar a função\n",
    "msg_claro = decode_morse('-.-. .- .-. --- .-.. .. -. .-', dict_morse)\n",
    "save_clear_msg_txt(msg_claro, file_path)"
   ]
  },
  {
   "cell_type": "code",
   "execution_count": 18,
   "metadata": {},
   "outputs": [],
   "source": [
    "import pandas as pd"
   ]
  },
  {
   "cell_type": "code",
   "execution_count": 19,
   "metadata": {},
   "outputs": [],
   "source": [
    "# alterar função para salvar um csv\n",
    "\n",
    "def save_clear_msg_csv(msg_claro,file_path):\n",
    "    now = datetime.datetime.now()\n",
    "    df = pd.DataFrame([[msg_claro, now]], columns=[\"mensagem\", \"datetime\"])\n",
    "    df.to_csv(file_path, mode =\"a\", index = False, header=False)"
   ]
  },
  {
   "cell_type": "code",
   "execution_count": 20,
   "metadata": {},
   "outputs": [],
   "source": [
    "# Testar a função\n",
    "msg_claro = decode_morse('-.-. .- .-. --- .-.. .. -. .-', dict_morse)\n",
    "save_clear_msg_csv(msg_claro, \"decode_morse.csv\")"
   ]
  },
  {
   "cell_type": "markdown",
   "metadata": {},
   "source": [
    "<img src=\"../imgs/notebooks/condicional.png\" style=\"max-width:300px; \"/>"
   ]
  },
  {
   "cell_type": "code",
   "execution_count": 21,
   "metadata": {},
   "outputs": [],
   "source": [
    "# alterar função para salvar um csv com header\n",
    "import os\n",
    "\n",
    "def save_clear_msg_csv_hdr(msg_claro,file_path):\n",
    "    now = datetime.datetime.now()\n",
    "    df = pd.DataFrame([[msg_claro, now]], columns=[\"mensagem\", \"datetime\"])\n",
    "    #if not os.path.exists(file_path):\n",
    "    #    hdr= True\n",
    "    #else:\n",
    "    #    hdr = False\n",
    "    hdr = os.path.exists(file_path)\n",
    "    df.to_csv(file_path, mode =\"a\", index = False, header=hdr)"
   ]
  },
  {
   "cell_type": "code",
   "execution_count": 22,
   "metadata": {},
   "outputs": [],
   "source": [
    "# Testar a função\n",
    "msg_claro = decode_morse('-.-. .- .-. --- .-.. .. -. .-', dict_morse)\n",
    "save_clear_msg_csv_hdr(msg_claro,\"decode_morse.csv\")"
   ]
  }
 ],
 "metadata": {
  "kernelspec": {
   "display_name": "Python 3",
   "language": "python",
   "name": "python3"
  },
  "language_info": {
   "codemirror_mode": {
    "name": "ipython",
    "version": 3
   },
   "file_extension": ".py",
   "mimetype": "text/x-python",
   "name": "python",
   "nbconvert_exporter": "python",
   "pygments_lexer": "ipython3",
   "version": "3.11.4"
  }
 },
 "nbformat": 4,
 "nbformat_minor": 2
}
